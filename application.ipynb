{
  "nbformat": 4,
  "nbformat_minor": 0,
  "metadata": {
    "colab": {
      "provenance": []
    },
    "kernelspec": {
      "name": "python3",
      "display_name": "Python 3"
    },
    "language_info": {
      "name": "python"
    }
  },
  "cells": [
    {
      "cell_type": "code",
      "execution_count": 1,
      "metadata": {
        "colab": {
          "base_uri": "https://localhost:8080/",
          "height": 611
        },
        "id": "n3E2i5AC9v8K",
        "outputId": "15ab0d38-c9e0-4b1a-ddbd-db2958053abb"
      },
      "outputs": [
        {
          "output_type": "stream",
          "name": "stdout",
          "text": [
            "Colab notebook detected. To show errors in colab notebook, set debug=True in launch()\n",
            "* Running on public URL: https://0f1e877758dd550b09.gradio.live\n",
            "\n",
            "This share link expires in 1 week. For free permanent hosting and GPU upgrades, run `gradio deploy` from the terminal in the working directory to deploy to Hugging Face Spaces (https://huggingface.co/spaces)\n"
          ]
        },
        {
          "output_type": "display_data",
          "data": {
            "text/plain": [
              "<IPython.core.display.HTML object>"
            ],
            "text/html": [
              "<div><iframe src=\"https://0f1e877758dd550b09.gradio.live\" width=\"100%\" height=\"500\" allow=\"autoplay; camera; microphone; clipboard-read; clipboard-write;\" frameborder=\"0\" allowfullscreen></iframe></div>"
            ]
          },
          "metadata": {}
        },
        {
          "output_type": "execute_result",
          "data": {
            "text/plain": []
          },
          "metadata": {},
          "execution_count": 1
        }
      ],
      "source": [
        "import gradio as gr\n",
        "import pandas as pd\n",
        "import pickle\n",
        "\n",
        "# Load your trained model (already uploaded)\n",
        "pipe = pickle.load(open(\"/LinearRegressionModel (3).pkl\", \"rb\"))\n",
        "\n",
        "# Define prediction function\n",
        "def predict_price(name, company, year, kms_driven, fuel_type):\n",
        "    data = pd.DataFrame([[name, company, int(year), int(kms_driven), fuel_type]],\n",
        "                        columns=['name', 'company', 'year', 'kms_driven', 'fuel_type'])\n",
        "    pred = pipe.predict(data)[0]\n",
        "    return f\"💰 Estimated Car Price: ₹{int(pred):,}\"\n",
        "\n",
        "# Create Gradio app\n",
        "app = gr.Interface(\n",
        "    fn=predict_price,\n",
        "    inputs=[\n",
        "        gr.Textbox(label=\"Car Name\"),\n",
        "        gr.Textbox(label=\"Company\"),\n",
        "        gr.Number(label=\"Year\"),\n",
        "        gr.Number(label=\"Kilometers Driven\"),\n",
        "        gr.Dropdown([\"Petrol\", \"Diesel\", \"CNG\", \"LPG\", \"Electric\"], label=\"Fuel Type\")\n",
        "    ],\n",
        "    outputs=\"text\",\n",
        "    title=\"🚗 Used Car Price Predictor\"\n",
        ")\n",
        "\n",
        "# Launch inside Colab\n",
        "app.launch(share=True)  # share=True gives you a public link\n"
      ]
    }
  ]
}